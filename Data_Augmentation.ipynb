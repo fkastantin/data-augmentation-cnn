{
  "nbformat": 4,
  "nbformat_minor": 0,
  "metadata": {
    "colab": {
      "name": "Data-Augmentation.ipynb",
      "provenance": []
    },
    "kernelspec": {
      "name": "python3",
      "display_name": "Python 3"
    },
    "language_info": {
      "name": "python"
    },
    "accelerator": "GPU"
  },
  "cells": [
    {
      "cell_type": "markdown",
      "metadata": {
        "id": "NJrm6TUghMwZ"
      },
      "source": [
        "In this notebook, I am trying to figure out how *Data Augmentation* technique works in *Deep Learning* applictions. Data Augmentation is the technique of generating new data from the original dataset to make our model more robust, achieve better accuracy, and get new dataset with more samples that can help increase the ability of the model to generalize."
      ]
    },
    {
      "cell_type": "markdown",
      "metadata": {
        "id": "DGo1MzmUhQS4"
      },
      "source": [
        "# Data Preperation"
      ]
    },
    {
      "cell_type": "markdown",
      "metadata": {
        "id": "vGuJYUAJiDEJ"
      },
      "source": [
        "I am going to use `simpsons dataset` which consists of images for 10 different characters of Simpsons series, each image is labeled with one of the characters. The dataset is already splited into train and test datasets."
      ]
    },
    {
      "cell_type": "markdown",
      "metadata": {
        "id": "FldptjNzjdiR"
      },
      "source": [
        "First download the dataset:"
      ]
    },
    {
      "cell_type": "code",
      "metadata": {
        "colab": {
          "base_uri": "https://localhost:8080/"
        },
        "id": "Wbemlw9me8f3",
        "outputId": "6794795a-66dd-4741-d4c8-f14b95a36b3d"
      },
      "source": [
        "# Downloading the dataset\n",
        "!curl -c ./cookie -s -L \"https://drive.google.com/uc?export=download&id=1QelVmKZNBwcLEwptawOKE76pTBvRGoA3\" > /dev/null\n",
        "!curl -Lb ./cookie \"https://drive.google.com/uc?export=download&confirm=`awk '/download/ {print $NF}' ./cookie`&id=1QelVmKZNBwcLEwptawOKE76pTBvRGoA3\" -o simpsons_dataset_train.pkl\n",
        "\n",
        "!curl -c ./cookie -s -L \"https://drive.google.com/uc?export=download&id=1wAYMLNO2xYJbK_p6z0KAaxea2jw2mkdA\" > /dev/null\n",
        "!curl -Lb ./cookie \"https://drive.google.com/uc?export=download&confirm=`awk '/download/ {print $NF}' ./cookie`&id=1wAYMLNO2xYJbK_p6z0KAaxea2jw2mkdA\" -o simpsons_dataset_test.pkl"
      ],
      "execution_count": 1,
      "outputs": [
        {
          "output_type": "stream",
          "text": [
            "  % Total    % Received % Xferd  Average Speed   Time    Time     Time  Current\n",
            "                                 Dload  Upload   Total   Spent    Left  Speed\n",
            "100   408    0   408    0     0   2241      0 --:--:-- --:--:-- --:--:--  2229\n",
            "  0     0    0     0    0     0      0      0 --:--:-- --:--:-- --:--:--     0\n",
            "  0     0    0     0    0     0      0      0 --:--:-- --:--:-- --:--:--     0\n",
            "100  129M    0  129M    0     0  66.4M      0 --:--:--  0:00:01 --:--:--  198M\n",
            "  % Total    % Received % Xferd  Average Speed   Time    Time     Time  Current\n",
            "                                 Dload  Upload   Total   Spent    Left  Speed\n",
            "100   408    0   408    0     0    369      0 --:--:--  0:00:01 --:--:--   369\n",
            "  0     0    0     0    0     0      0      0 --:--:--  0:00:01 --:--:--     0\n",
            "  0     0    0     0    0     0      0      0 --:--:--  0:00:01 --:--:--     0\n",
            "100 32.4M    0 32.4M    0     0  14.6M      0 --:--:--  0:00:02 --:--:-- 14.6M\n"
          ],
          "name": "stdout"
        }
      ]
    },
    {
      "cell_type": "markdown",
      "metadata": {
        "id": "kAspJ_xVkAbv"
      },
      "source": [
        "This downloads two Python pickle files, one for the training (`simpsons_dataset_train.pkl`) and one for the test set (`simpsons_dataset_test.pkl`). Both files contain a dictionary, the key `features` holds the images, the key `labels` the label ids. You can inspect the downloaded files in the sidebar on the left, under the *Files* tab.  The following code loads the dataset:"
      ]
    },
    {
      "cell_type": "markdown",
      "metadata": {
        "id": "gWAcFEOlkIWv"
      },
      "source": [
        "Load the dataset to memory:"
      ]
    },
    {
      "cell_type": "code",
      "metadata": {
        "id": "iOyFGaFMfExI"
      },
      "source": [
        "import pickle\n",
        "with open('simpsons_dataset_test.pkl', 'rb') as f:\n",
        "    test = pickle.load(f)\n",
        "with open('simpsons_dataset_train.pkl', 'rb') as f:\n",
        "    train = pickle.load(f)\n",
        "    \n",
        "x_test, y_test = test['features'], test['labels']\n",
        "x_train, y_train = train['features'], train['labels']"
      ],
      "execution_count": 2,
      "outputs": []
    },
    {
      "cell_type": "markdown",
      "metadata": {
        "id": "Gy7Z78X4limw"
      },
      "source": [
        "I will train the same classification model for two different datasets: the original one, and the augmented one. We have to take part of the training dataset to use it for validation. `train_test_split` function in `sklearn.model_selection` helps to split the data taking into consideration different labels balance ratio in the training and validation datasets. We can achieve the balance by using the `stratify` parameter."
      ]
    },
    {
      "cell_type": "code",
      "metadata": {
        "id": "Tsy8fJH1liCK"
      },
      "source": [
        "from sklearn.model_selection import train_test_split\n",
        "\n",
        "x_train, x_valid, y_train, y_valid = train_test_split(\n",
        "    x_train, y_train, test_size=0.2, random_state=0, stratify=y_train)"
      ],
      "execution_count": 3,
      "outputs": []
    },
    {
      "cell_type": "markdown",
      "metadata": {
        "id": "krpmvDA6npYq"
      },
      "source": [
        "# Dataset visualization"
      ]
    },
    {
      "cell_type": "markdown",
      "metadata": {
        "id": "hvWSxRezn1fQ"
      },
      "source": [
        "Datasets size:"
      ]
    },
    {
      "cell_type": "code",
      "metadata": {
        "colab": {
          "base_uri": "https://localhost:8080/"
        },
        "id": "dAFlDjhNntP5",
        "outputId": "9308d636-e0d4-4ccc-e081-230dea9289f1"
      },
      "source": [
        "print('train samples:', x_train.shape)\n",
        "print('test samples:', x_test.shape)\n",
        "print('validation samples:', x_valid.shape)"
      ],
      "execution_count": 4,
      "outputs": [
        {
          "output_type": "stream",
          "text": [
            "train samples: (8835, 64, 64, 3)\n",
            "test samples: (2767, 64, 64, 3)\n",
            "validation samples: (2209, 64, 64, 3)\n"
          ],
          "name": "stdout"
        }
      ]
    },
    {
      "cell_type": "markdown",
      "metadata": {
        "id": "bCplJzm7oOOg"
      },
      "source": [
        "Size of each label:"
      ]
    },
    {
      "cell_type": "code",
      "metadata": {
        "colab": {
          "base_uri": "https://localhost:8080/"
        },
        "id": "K1OOU3VEoRhQ",
        "outputId": "c0696909-aec4-421b-9814-dae0b90cc146"
      },
      "source": [
        "import numpy as np\n",
        "\n",
        "unique_classes = np.unique(y_train)\n",
        "print('unique classes:', unique_classes)\n",
        "\n",
        "for cls in unique_classes:\n",
        "  print('class #{}, train count: {}, test count: {}, validation count: {}'.format(\n",
        "      cls, \n",
        "      (y_train == cls).sum(),\n",
        "      (y_test == cls).sum(),\n",
        "      (y_valid == cls).sum()\n",
        "    ))"
      ],
      "execution_count": 5,
      "outputs": [
        {
          "output_type": "stream",
          "text": [
            "unique classes: [0 1 2 3 4 5 6 7 8 9]\n",
            "class #0, train count: 858, test count: 269, validation count: 215\n",
            "class #1, train count: 763, test count: 239, validation count: 191\n",
            "class #2, train count: 1437, test count: 450, validation count: 359\n",
            "class #3, train count: 771, test count: 242, validation count: 193\n",
            "class #4, train count: 866, test count: 271, validation count: 217\n",
            "class #5, train count: 826, test count: 259, validation count: 206\n",
            "class #6, train count: 691, test count: 216, validation count: 172\n",
            "class #7, train count: 929, test count: 291, validation count: 232\n",
            "class #8, train count: 930, test count: 291, validation count: 233\n",
            "class #9, train count: 764, test count: 239, validation count: 191\n"
          ],
          "name": "stdout"
        }
      ]
    },
    {
      "cell_type": "markdown",
      "metadata": {
        "id": "o5cBE1_Xolrv"
      },
      "source": [
        "Look at some images:"
      ]
    },
    {
      "cell_type": "code",
      "metadata": {
        "colab": {
          "base_uri": "https://localhost:8080/",
          "height": 286
        },
        "id": "eX9wqBDYow8I",
        "outputId": "5890e282-1df5-4138-bd84-bad3427990eb"
      },
      "source": [
        "import matplotlib.pyplot as plt\n",
        "\n",
        "f, axarr = plt.subplots(2,2)\n",
        "axarr[0,0].imshow(x_train[0,:])\n",
        "axarr[0,1].imshow(x_train[1,:])\n",
        "axarr[1,0].imshow(x_train[2,:])\n",
        "axarr[1,1].imshow(x_train[3,:])"
      ],
      "execution_count": 6,
      "outputs": [
        {
          "output_type": "execute_result",
          "data": {
            "text/plain": [
              "<matplotlib.image.AxesImage at 0x7f38444debd0>"
            ]
          },
          "metadata": {
            "tags": []
          },
          "execution_count": 6
        },
        {
          "output_type": "display_data",
          "data": {
            "image/png": "[encoded data removed]",
            "text/plain": [
              "<Figure size 432x288 with 4 Axes>"
            ]
          },
          "metadata": {
            "tags": [],
            "needs_background": "light"
          }
        }
      ]
    },
    {
      "cell_type": "markdown",
      "metadata": {
        "id": "hRLIG4gWpQxK"
      },
      "source": [
        "# Dataset normalization"
      ]
    },
    {
      "cell_type": "markdown",
      "metadata": {
        "id": "0PYjJ00upXeB"
      },
      "source": [
        "Dataset normalization is essential part of any machine learning pipeline, it is proven that using normalized dataset helps to get more robust models. There are different normalizaton methods, I choose normalization that keeps the data in [-1,1] range."
      ]
    },
    {
      "cell_type": "code",
      "metadata": {
        "colab": {
          "base_uri": "https://localhost:8080/"
        },
        "id": "snwRccsAqa8C",
        "outputId": "7d58b580-cac6-472e-d05b-93086d217535"
      },
      "source": [
        "print('x_train shape:', x_train.shape, 'mean:', np.mean(x_train), 'std:', np.std(x_train), 'min:', np.min(x_train), 'max:', np.max(x_train))\n",
        "\n",
        "x_train = (x_train.astype('float32') - 128.) / 128.\n",
        "x_valid = (x_valid.astype('float32') - 128.) / 128.\n",
        "x_test = (x_test.astype('float32') - 128.) / 128.\n",
        "\n",
        "print('\\nAfter normalization:')\n",
        "print('x_train shape:', x_train.shape, 'mean:', np.mean(x_train), 'std:', np.std(x_train), 'min:', np.min(x_train), 'max:', np.max(x_train))"
      ],
      "execution_count": 7,
      "outputs": [
        {
          "output_type": "stream",
          "text": [
            "x_train shape: (8835, 64, 64, 3) mean: 103.54859782868209 std: 62.92433219376137 min: 0 max: 255\n",
            "\n",
            "After normalization:\n",
            "x_train shape: (8835, 64, 64, 3) mean: -0.19102679 std: 0.491597 min: -1.0 max: 0.9921875\n"
          ],
          "name": "stdout"
        }
      ]
    },
    {
      "cell_type": "markdown",
      "metadata": {
        "id": "bPt4tmHZsOXP"
      },
      "source": [
        "In order to build our classification model with softmax output layer, we need to use the `one-hot-enconding`."
      ]
    },
    {
      "cell_type": "code",
      "metadata": {
        "id": "q-0JnH5CsXzz"
      },
      "source": [
        "from keras.utils import np_utils\n",
        "\n",
        "y_test = np_utils.to_categorical(y_test)\n",
        "y_valid = np_utils.to_categorical(y_valid)\n",
        "y_train = np_utils.to_categorical(y_train)"
      ],
      "execution_count": 8,
      "outputs": []
    },
    {
      "cell_type": "code",
      "metadata": {
        "colab": {
          "base_uri": "https://localhost:8080/"
        },
        "id": "E3i_eI36sz9g",
        "outputId": "273247e8-a76f-4247-d822-9320db6ca665"
      },
      "source": [
        "y_train[0]"
      ],
      "execution_count": 9,
      "outputs": [
        {
          "output_type": "execute_result",
          "data": {
            "text/plain": [
              "array([0., 0., 0., 0., 1., 0., 0., 0., 0., 0.], dtype=float32)"
            ]
          },
          "metadata": {
            "tags": []
          },
          "execution_count": 9
        }
      ]
    },
    {
      "cell_type": "markdown",
      "metadata": {
        "id": "joQoEhDts7L6"
      },
      "source": [
        "# Train the classification model"
      ]
    },
    {
      "cell_type": "markdown",
      "metadata": {
        "id": "LH7yrDb4tmqx"
      },
      "source": [
        "I use modified LeNet architecture. It has the following layers:\n",
        "\n",
        "- A convolutional layer with 5x5 kernel and 8 filters\n",
        "- An AveragePooling layer\n",
        "- A convolutional layer with 3x3 kernel and 16 filters\n",
        "- An AveragePooling layer\n",
        "- A fully connected layer of 100 units\n",
        "- A fully connected layer of 60 units\n",
        "- A fully connected layer with softmax activation, having the same number of units as classes\n",
        "\n",
        "All layers have ReLU activations."
      ]
    },
    {
      "cell_type": "code",
      "metadata": {
        "colab": {
          "base_uri": "https://localhost:8080/"
        },
        "id": "qUy6yhAItd8-",
        "outputId": "65a36ada-7ceb-4c8f-dcd3-7d8d2ef05dc8"
      },
      "source": [
        "from tensorflow.keras.layers import Dense, Conv2D, BatchNormalization, Activation, AveragePooling2D, Input, Flatten\n",
        "from tensorflow.keras.models import Model, Sequential\n",
        "\n",
        "def get_model():\n",
        "  input = Input(x_train[0].shape)\n",
        "  output = Conv2D(8, (5, 5), activation='relu')(input)\n",
        "  output = AveragePooling2D(pool_size=(2, 2), strides=(2, 2))(output)\n",
        "  output = Conv2D(16, (3, 3), activation='relu')(output)\n",
        "  output = AveragePooling2D(pool_size=(2, 2), strides=(2, 2))(output)\n",
        "  output = Flatten()(output)\n",
        "  output = Dense(100, activation='relu')(output)\n",
        "  output = Dense(60, activation='relu')(output)\n",
        "  output = Dense(10, activation='softmax')(output)\n",
        "\n",
        "  return Model(inputs=input, outputs=output)\n",
        "\n",
        "\n",
        "model = get_model()\n",
        "model.summary()"
      ],
      "execution_count": 10,
      "outputs": [
        {
          "output_type": "stream",
          "text": [
            "Model: \"model\"\n",
            "_________________________________________________________________\n",
            "Layer (type)                 Output Shape              Param #   \n",
            "=================================================================\n",
            "input_1 (InputLayer)         [(None, 64, 64, 3)]       0         \n",
            "_________________________________________________________________\n",
            "conv2d (Conv2D)              (None, 60, 60, 8)         608       \n",
            "_________________________________________________________________\n",
            "average_pooling2d (AveragePo (None, 30, 30, 8)         0         \n",
            "_________________________________________________________________\n",
            "conv2d_1 (Conv2D)            (None, 28, 28, 16)        1168      \n",
            "_________________________________________________________________\n",
            "average_pooling2d_1 (Average (None, 14, 14, 16)        0         \n",
            "_________________________________________________________________\n",
            "flatten (Flatten)            (None, 3136)              0         \n",
            "_________________________________________________________________\n",
            "dense (Dense)                (None, 100)               313700    \n",
            "_________________________________________________________________\n",
            "dense_1 (Dense)              (None, 60)                6060      \n",
            "_________________________________________________________________\n",
            "dense_2 (Dense)              (None, 10)                610       \n",
            "=================================================================\n",
            "Total params: 322,146\n",
            "Trainable params: 322,146\n",
            "Non-trainable params: 0\n",
            "_________________________________________________________________\n"
          ],
          "name": "stdout"
        }
      ]
    },
    {
      "cell_type": "markdown",
      "metadata": {
        "id": "fPZJ7qKhuq4h"
      },
      "source": [
        "Train the model:"
      ]
    },
    {
      "cell_type": "code",
      "metadata": {
        "colab": {
          "base_uri": "https://localhost:8080/"
        },
        "id": "PNcdHrGmuqUl",
        "outputId": "021b1ea1-453e-4bb9-b6f4-c0b38ffbecbb"
      },
      "source": [
        "model.compile(loss='categorical_crossentropy',\n",
        "              optimizer='adam',\n",
        "              metrics=['accuracy'])\n",
        "\n",
        "history = model.fit(x_train, y_train, batch_size=64, epochs=50, \n",
        "                    validation_data=(x_valid, y_valid), shuffle=True)"
      ],
      "execution_count": 11,
      "outputs": [
        {
          "output_type": "stream",
          "text": [
            "Epoch 1/50\n",
            "139/139 [==============================] - 31s 14ms/step - loss: 1.7700 - accuracy: 0.3902 - val_loss: 1.4510 - val_accuracy: 0.5315\n",
            "Epoch 2/50\n",
            "139/139 [==============================] - 1s 10ms/step - loss: 1.3232 - accuracy: 0.5600 - val_loss: 1.2904 - val_accuracy: 0.5822\n",
            "Epoch 3/50\n",
            "139/139 [==============================] - 1s 10ms/step - loss: 1.1230 - accuracy: 0.6345 - val_loss: 1.1631 - val_accuracy: 0.6193\n",
            "Epoch 4/50\n",
            "139/139 [==============================] - 1s 9ms/step - loss: 0.9555 - accuracy: 0.6952 - val_loss: 1.0684 - val_accuracy: 0.6573\n",
            "Epoch 5/50\n",
            "139/139 [==============================] - 1s 9ms/step - loss: 0.7896 - accuracy: 0.7448 - val_loss: 1.0514 - val_accuracy: 0.6718\n",
            "Epoch 6/50\n",
            "139/139 [==============================] - 1s 9ms/step - loss: 0.6517 - accuracy: 0.7919 - val_loss: 1.0292 - val_accuracy: 0.6813\n",
            "Epoch 7/50\n",
            "139/139 [==============================] - 1s 9ms/step - loss: 0.5248 - accuracy: 0.8298 - val_loss: 1.0809 - val_accuracy: 0.6750\n",
            "Epoch 8/50\n",
            "139/139 [==============================] - 1s 9ms/step - loss: 0.4258 - accuracy: 0.8662 - val_loss: 1.0857 - val_accuracy: 0.6922\n",
            "Epoch 9/50\n",
            "139/139 [==============================] - 1s 9ms/step - loss: 0.3513 - accuracy: 0.8902 - val_loss: 1.0932 - val_accuracy: 0.7062\n",
            "Epoch 10/50\n",
            "139/139 [==============================] - 1s 9ms/step - loss: 0.2299 - accuracy: 0.9288 - val_loss: 1.1493 - val_accuracy: 0.7008\n",
            "Epoch 11/50\n",
            "139/139 [==============================] - 1s 9ms/step - loss: 0.2107 - accuracy: 0.9341 - val_loss: 1.2614 - val_accuracy: 0.7039\n",
            "Epoch 12/50\n",
            "139/139 [==============================] - 1s 9ms/step - loss: 0.1598 - accuracy: 0.9521 - val_loss: 1.3837 - val_accuracy: 0.7134\n",
            "Epoch 13/50\n",
            "139/139 [==============================] - 1s 9ms/step - loss: 0.1044 - accuracy: 0.9702 - val_loss: 1.4105 - val_accuracy: 0.7148\n",
            "Epoch 14/50\n",
            "139/139 [==============================] - 1s 9ms/step - loss: 0.0562 - accuracy: 0.9870 - val_loss: 1.4892 - val_accuracy: 0.7216\n",
            "Epoch 15/50\n",
            "139/139 [==============================] - 1s 9ms/step - loss: 0.0345 - accuracy: 0.9925 - val_loss: 1.6170 - val_accuracy: 0.7107\n",
            "Epoch 16/50\n",
            "139/139 [==============================] - 1s 9ms/step - loss: 0.0407 - accuracy: 0.9913 - val_loss: 1.7882 - val_accuracy: 0.7071\n",
            "Epoch 17/50\n",
            "139/139 [==============================] - 1s 9ms/step - loss: 0.0915 - accuracy: 0.9723 - val_loss: 1.6979 - val_accuracy: 0.6840\n",
            "Epoch 18/50\n",
            "139/139 [==============================] - 1s 9ms/step - loss: 0.0961 - accuracy: 0.9688 - val_loss: 1.7150 - val_accuracy: 0.7048\n",
            "Epoch 19/50\n",
            "139/139 [==============================] - 1s 9ms/step - loss: 0.0424 - accuracy: 0.9888 - val_loss: 1.8727 - val_accuracy: 0.7121\n",
            "Epoch 20/50\n",
            "139/139 [==============================] - 1s 9ms/step - loss: 0.0471 - accuracy: 0.9863 - val_loss: 1.8205 - val_accuracy: 0.7162\n",
            "Epoch 21/50\n",
            "139/139 [==============================] - 1s 9ms/step - loss: 0.0332 - accuracy: 0.9917 - val_loss: 1.9100 - val_accuracy: 0.7184\n",
            "Epoch 22/50\n",
            "139/139 [==============================] - 1s 9ms/step - loss: 0.0111 - accuracy: 0.9984 - val_loss: 1.9170 - val_accuracy: 0.7293\n",
            "Epoch 23/50\n",
            "139/139 [==============================] - 1s 9ms/step - loss: 0.0092 - accuracy: 0.9982 - val_loss: 1.9344 - val_accuracy: 0.7252\n",
            "Epoch 24/50\n",
            "139/139 [==============================] - 1s 9ms/step - loss: 0.0102 - accuracy: 0.9983 - val_loss: 2.0054 - val_accuracy: 0.7125\n",
            "Epoch 25/50\n",
            "139/139 [==============================] - 1s 9ms/step - loss: 0.0224 - accuracy: 0.9929 - val_loss: 1.9957 - val_accuracy: 0.7039\n",
            "Epoch 26/50\n",
            "139/139 [==============================] - 1s 9ms/step - loss: 0.0802 - accuracy: 0.9744 - val_loss: 2.2152 - val_accuracy: 0.6759\n",
            "Epoch 27/50\n",
            "139/139 [==============================] - 1s 9ms/step - loss: 0.1011 - accuracy: 0.9657 - val_loss: 2.1800 - val_accuracy: 0.6600\n",
            "Epoch 28/50\n",
            "139/139 [==============================] - 1s 9ms/step - loss: 0.0566 - accuracy: 0.9823 - val_loss: 2.0764 - val_accuracy: 0.7053\n",
            "Epoch 29/50\n",
            "139/139 [==============================] - 1s 9ms/step - loss: 0.0290 - accuracy: 0.9923 - val_loss: 2.0316 - val_accuracy: 0.7144\n",
            "Epoch 30/50\n",
            "139/139 [==============================] - 1s 9ms/step - loss: 0.0114 - accuracy: 0.9974 - val_loss: 2.0875 - val_accuracy: 0.7356\n",
            "Epoch 31/50\n",
            "139/139 [==============================] - 1s 9ms/step - loss: 0.0060 - accuracy: 0.9986 - val_loss: 2.1305 - val_accuracy: 0.7189\n",
            "Epoch 32/50\n",
            "139/139 [==============================] - 1s 9ms/step - loss: 0.0018 - accuracy: 0.9998 - val_loss: 2.2145 - val_accuracy: 0.7293\n",
            "Epoch 33/50\n",
            "139/139 [==============================] - 1s 9ms/step - loss: 5.8295e-04 - accuracy: 1.0000 - val_loss: 2.2312 - val_accuracy: 0.7334\n",
            "Epoch 34/50\n",
            "139/139 [==============================] - 1s 9ms/step - loss: 3.8839e-04 - accuracy: 1.0000 - val_loss: 2.2728 - val_accuracy: 0.7311\n",
            "Epoch 35/50\n",
            "139/139 [==============================] - 1s 9ms/step - loss: 3.1817e-04 - accuracy: 1.0000 - val_loss: 2.3024 - val_accuracy: 0.7329\n",
            "Epoch 36/50\n",
            "139/139 [==============================] - 1s 9ms/step - loss: 2.6834e-04 - accuracy: 1.0000 - val_loss: 2.3314 - val_accuracy: 0.7316\n",
            "Epoch 37/50\n",
            "139/139 [==============================] - 1s 9ms/step - loss: 2.3289e-04 - accuracy: 1.0000 - val_loss: 2.3589 - val_accuracy: 0.7320\n",
            "Epoch 38/50\n",
            "139/139 [==============================] - 1s 9ms/step - loss: 2.0510e-04 - accuracy: 1.0000 - val_loss: 2.3843 - val_accuracy: 0.7320\n",
            "Epoch 39/50\n",
            "139/139 [==============================] - 1s 9ms/step - loss: 1.8145e-04 - accuracy: 1.0000 - val_loss: 2.4092 - val_accuracy: 0.7306\n",
            "Epoch 40/50\n",
            "139/139 [==============================] - 1s 9ms/step - loss: 1.6267e-04 - accuracy: 1.0000 - val_loss: 2.4317 - val_accuracy: 0.7334\n",
            "Epoch 41/50\n",
            "139/139 [==============================] - 1s 9ms/step - loss: 1.4683e-04 - accuracy: 1.0000 - val_loss: 2.4542 - val_accuracy: 0.7320\n",
            "Epoch 42/50\n",
            "139/139 [==============================] - 1s 9ms/step - loss: 1.3273e-04 - accuracy: 1.0000 - val_loss: 2.4742 - val_accuracy: 0.7347\n",
            "Epoch 43/50\n",
            "139/139 [==============================] - 1s 9ms/step - loss: 1.2151e-04 - accuracy: 1.0000 - val_loss: 2.4940 - val_accuracy: 0.7325\n",
            "Epoch 44/50\n",
            "139/139 [==============================] - 1s 9ms/step - loss: 1.1001e-04 - accuracy: 1.0000 - val_loss: 2.5158 - val_accuracy: 0.7325\n",
            "Epoch 45/50\n",
            "139/139 [==============================] - 1s 9ms/step - loss: 1.0050e-04 - accuracy: 1.0000 - val_loss: 2.5352 - val_accuracy: 0.7311\n",
            "Epoch 46/50\n",
            "139/139 [==============================] - 1s 9ms/step - loss: 9.2032e-05 - accuracy: 1.0000 - val_loss: 2.5522 - val_accuracy: 0.7302\n",
            "Epoch 47/50\n",
            "139/139 [==============================] - 1s 9ms/step - loss: 8.7097e-05 - accuracy: 1.0000 - val_loss: 2.5623 - val_accuracy: 0.7334\n",
            "Epoch 48/50\n",
            "139/139 [==============================] - 1s 9ms/step - loss: 7.7955e-05 - accuracy: 1.0000 - val_loss: 2.5843 - val_accuracy: 0.7334\n",
            "Epoch 49/50\n",
            "139/139 [==============================] - 1s 9ms/step - loss: 7.1350e-05 - accuracy: 1.0000 - val_loss: 2.6060 - val_accuracy: 0.7320\n",
            "Epoch 50/50\n",
            "139/139 [==============================] - 1s 9ms/step - loss: 6.5688e-05 - accuracy: 1.0000 - val_loss: 2.6253 - val_accuracy: 0.7343\n"
          ],
          "name": "stdout"
        }
      ]
    },
    {
      "cell_type": "markdown",
      "metadata": {
        "id": "wdyYbK0UvLVK"
      },
      "source": [
        "Now that the model has finished training, let's plot the accuracy and loss over time"
      ]
    },
    {
      "cell_type": "code",
      "metadata": {
        "colab": {
          "base_uri": "https://localhost:8080/",
          "height": 545
        },
        "id": "gndiC3lcuXe1",
        "outputId": "4a422fb8-5b7e-4c0d-ad26-10c877601f31"
      },
      "source": [
        "import matplotlib.pyplot as plt\n",
        "\n",
        "acc = history.history['accuracy']\n",
        "val_acc = history.history['val_accuracy']\n",
        "loss = history.history['loss']\n",
        "val_loss = history.history['val_loss']\n",
        "\n",
        "epochs = range(len(acc))\n",
        "\n",
        "plt.plot(epochs, acc, 'bo', label='Training acc')\n",
        "plt.plot(epochs, val_acc, 'b', label='Validation acc')\n",
        "plt.title('Training and validation accuracy')\n",
        "plt.legend()\n",
        "\n",
        "plt.figure()\n",
        "\n",
        "plt.plot(epochs, loss, 'bo', label='Training loss')\n",
        "plt.plot(epochs, val_loss, 'b', label='Validation loss')\n",
        "plt.title('Training and validation loss')\n",
        "plt.legend()\n",
        "\n",
        "plt.show()"
      ],
      "execution_count": 12,
      "outputs": [
        {
          "output_type": "display_data",
          "data": {
            "image/png": "[encoded data removed]",
            "text/plain": [
              "<Figure size 432x288 with 1 Axes>"
            ]
          },
          "metadata": {
            "tags": [],
            "needs_background": "light"
          }
        },
        {
          "output_type": "display_data",
          "data": {
            "image/png": "[encoded data removed]",
            "text/plain": [
              "<Figure size 432x288 with 1 Axes>"
            ]
          },
          "metadata": {
            "tags": [],
            "needs_background": "light"
          }
        }
      ]
    },
    {
      "cell_type": "markdown",
      "metadata": {
        "id": "efbpafSJvlkj"
      },
      "source": [
        "We can notice that the accuarcy curve is improving over time on the training set but it is get worser or not imporving on the validation set and the same apply for the loss curve, thus we are suffering from overfitting problem. We can solve the overfitting problem:\n",
        "- Add dropout layers.\n",
        "- Increase the size of our training set (new samples + augmentation).\n",
        "- Try another model (with less number of trainable paramters).\n",
        "- Use transfer learning technique.\n",
        "\n",
        "I am going to use the data augmentation technique trying to overcome the overfitting problem."
      ]
    },
    {
      "cell_type": "markdown",
      "metadata": {
        "id": "DGLBy0BBv73x"
      },
      "source": [
        "# Improving the method"
      ]
    },
    {
      "cell_type": "markdown",
      "metadata": {
        "id": "9eC-R6JXwZti"
      },
      "source": [
        "`ImageDataGenerator` function in `tensorflow.keras` is really helpful method to apply data augmentation, you can check the description of each parameter in tensorflow [documentation](https://www.tensorflow.org/api_docs/python/tf/keras/preprocessing/image/ImageDataGenerator)."
      ]
    },
    {
      "cell_type": "code",
      "metadata": {
        "id": "vWA_DNzZwZJC"
      },
      "source": [
        "from tensorflow.keras.preprocessing.image import ImageDataGenerator\n",
        "\n",
        "datagen = ImageDataGenerator(\n",
        "      rotation_range=25,\n",
        "      width_shift_range=0.2,\n",
        "      height_shift_range=0.2,\n",
        "      shear_range=0.2,\n",
        "      zoom_range=0.2,\n",
        "      horizontal_flip=True,\n",
        "      fill_mode='nearest')"
      ],
      "execution_count": 13,
      "outputs": []
    },
    {
      "cell_type": "markdown",
      "metadata": {
        "id": "elhM2rFuwZUx"
      },
      "source": [
        "Early stopping is also another method to overcome the overfitting problem, it stops the model training when one of the validation metrics got worser. You can check the parameter's desciptions of `EarlyStopping` method in the keras [documentation](https://keras.io/api/callbacks/early_stopping/)."
      ]
    },
    {
      "cell_type": "code",
      "metadata": {
        "id": "nBqDTUstv8nx"
      },
      "source": [
        "from keras.callbacks import EarlyStopping\n",
        "\n",
        "es = EarlyStopping(monitor='val_loss', mode='min', verbose=1, patience=20)"
      ],
      "execution_count": 14,
      "outputs": []
    },
    {
      "cell_type": "code",
      "metadata": {
        "id": "fMNlmvMEy1EN"
      },
      "source": [
        "model = get_model()\n",
        "\n",
        "model.compile(loss='categorical_crossentropy',\n",
        "              optimizer='adam',\n",
        "              metrics=['accuracy']\n",
        "              )"
      ],
      "execution_count": 15,
      "outputs": []
    },
    {
      "cell_type": "markdown",
      "metadata": {
        "id": "mCw69n0kzMk1"
      },
      "source": [
        "Train the classification model with the augmented dataset:"
      ]
    },
    {
      "cell_type": "code",
      "metadata": {
        "colab": {
          "base_uri": "https://localhost:8080/"
        },
        "id": "ma6m90_qzVvi",
        "outputId": "da230db7-10d2-43ba-c551-2fda53b9140a"
      },
      "source": [
        "batch_size = 64\n",
        "steps_per_epoch = len(x_train)//batch_size\n",
        "\n",
        "it = datagen.flow(x_train, y_train, batch_size=batch_size)\n",
        "\n",
        "history = model.fit_generator(\n",
        "      it,\n",
        "      steps_per_epoch=steps_per_epoch,\n",
        "      epochs=200,\n",
        "      validation_data=(x_valid, y_valid),\n",
        "      callbacks=[es])"
      ],
      "execution_count": 16,
      "outputs": [
        {
          "output_type": "stream",
          "text": [
            "/usr/local/lib/python3.7/dist-packages/tensorflow/python/keras/engine/training.py:1940: UserWarning: `Model.fit_generator` is deprecated and will be removed in a future version. Please use `Model.fit`, which supports generators.\n",
            "  warnings.warn('`Model.fit_generator` is deprecated and '\n"
          ],
          "name": "stderr"
        },
        {
          "output_type": "stream",
          "text": [
            "Epoch 1/200\n",
            "138/138 [==============================] - 13s 91ms/step - loss: 1.9949 - accuracy: 0.2969 - val_loss: 1.5959 - val_accuracy: 0.4889\n",
            "Epoch 2/200\n",
            "138/138 [==============================] - 13s 92ms/step - loss: 1.7193 - accuracy: 0.4166 - val_loss: 1.3796 - val_accuracy: 0.5419\n",
            "Epoch 3/200\n",
            "138/138 [==============================] - 12s 89ms/step - loss: 1.5777 - accuracy: 0.4654 - val_loss: 1.3303 - val_accuracy: 0.5536\n",
            "Epoch 4/200\n",
            "138/138 [==============================] - 12s 89ms/step - loss: 1.5005 - accuracy: 0.4900 - val_loss: 1.2453 - val_accuracy: 0.5799\n",
            "Epoch 5/200\n",
            "138/138 [==============================] - 13s 92ms/step - loss: 1.4321 - accuracy: 0.5131 - val_loss: 1.2444 - val_accuracy: 0.5790\n",
            "Epoch 6/200\n",
            "138/138 [==============================] - 13s 93ms/step - loss: 1.3746 - accuracy: 0.5337 - val_loss: 1.1383 - val_accuracy: 0.6166\n",
            "Epoch 7/200\n",
            "138/138 [==============================] - 12s 89ms/step - loss: 1.3203 - accuracy: 0.5479 - val_loss: 1.1005 - val_accuracy: 0.6369\n",
            "Epoch 8/200\n",
            "138/138 [==============================] - 12s 89ms/step - loss: 1.2728 - accuracy: 0.5722 - val_loss: 1.0630 - val_accuracy: 0.6315\n",
            "Epoch 9/200\n",
            "138/138 [==============================] - 12s 88ms/step - loss: 1.2252 - accuracy: 0.5891 - val_loss: 1.0513 - val_accuracy: 0.6433\n",
            "Epoch 10/200\n",
            "138/138 [==============================] - 13s 92ms/step - loss: 1.2061 - accuracy: 0.5868 - val_loss: 1.0035 - val_accuracy: 0.6682\n",
            "Epoch 11/200\n",
            "138/138 [==============================] - 13s 92ms/step - loss: 1.1786 - accuracy: 0.5965 - val_loss: 0.9828 - val_accuracy: 0.6673\n",
            "Epoch 12/200\n",
            "138/138 [==============================] - 12s 89ms/step - loss: 1.1281 - accuracy: 0.6138 - val_loss: 0.9624 - val_accuracy: 0.6722\n",
            "Epoch 13/200\n",
            "138/138 [==============================] - 12s 88ms/step - loss: 1.1042 - accuracy: 0.6210 - val_loss: 0.9362 - val_accuracy: 0.6935\n",
            "Epoch 14/200\n",
            "138/138 [==============================] - 12s 88ms/step - loss: 1.0856 - accuracy: 0.6265 - val_loss: 0.9198 - val_accuracy: 0.6867\n",
            "Epoch 15/200\n",
            "138/138 [==============================] - 13s 92ms/step - loss: 1.0583 - accuracy: 0.6409 - val_loss: 0.9221 - val_accuracy: 0.6854\n",
            "Epoch 16/200\n",
            "138/138 [==============================] - 12s 89ms/step - loss: 1.0434 - accuracy: 0.6509 - val_loss: 0.8818 - val_accuracy: 0.7098\n",
            "Epoch 17/200\n",
            "138/138 [==============================] - 13s 91ms/step - loss: 1.0106 - accuracy: 0.6537 - val_loss: 0.8607 - val_accuracy: 0.7044\n",
            "Epoch 18/200\n",
            "138/138 [==============================] - 12s 90ms/step - loss: 0.9765 - accuracy: 0.6683 - val_loss: 0.8289 - val_accuracy: 0.7207\n",
            "Epoch 19/200\n",
            "138/138 [==============================] - 13s 92ms/step - loss: 0.9871 - accuracy: 0.6654 - val_loss: 0.8415 - val_accuracy: 0.7216\n",
            "Epoch 20/200\n",
            "138/138 [==============================] - 12s 89ms/step - loss: 0.9725 - accuracy: 0.6686 - val_loss: 0.7984 - val_accuracy: 0.7370\n",
            "Epoch 21/200\n",
            "138/138 [==============================] - 12s 90ms/step - loss: 0.9460 - accuracy: 0.6732 - val_loss: 0.8609 - val_accuracy: 0.7103\n",
            "Epoch 22/200\n",
            "138/138 [==============================] - 13s 92ms/step - loss: 0.9163 - accuracy: 0.6818 - val_loss: 0.7893 - val_accuracy: 0.7411\n",
            "Epoch 23/200\n",
            "138/138 [==============================] - 13s 91ms/step - loss: 0.9119 - accuracy: 0.6862 - val_loss: 0.7946 - val_accuracy: 0.7383\n",
            "Epoch 24/200\n",
            "138/138 [==============================] - 12s 88ms/step - loss: 0.8982 - accuracy: 0.6900 - val_loss: 0.7776 - val_accuracy: 0.7406\n",
            "Epoch 25/200\n",
            "138/138 [==============================] - 12s 88ms/step - loss: 0.8923 - accuracy: 0.6967 - val_loss: 0.7617 - val_accuracy: 0.7478\n",
            "Epoch 26/200\n",
            "138/138 [==============================] - 13s 91ms/step - loss: 0.8690 - accuracy: 0.6984 - val_loss: 0.7529 - val_accuracy: 0.7519\n",
            "Epoch 27/200\n",
            "138/138 [==============================] - 12s 90ms/step - loss: 0.8558 - accuracy: 0.7039 - val_loss: 0.7321 - val_accuracy: 0.7560\n",
            "Epoch 28/200\n",
            "138/138 [==============================] - 13s 93ms/step - loss: 0.8469 - accuracy: 0.7134 - val_loss: 0.7450 - val_accuracy: 0.7519\n",
            "Epoch 29/200\n",
            "138/138 [==============================] - 13s 91ms/step - loss: 0.8297 - accuracy: 0.7144 - val_loss: 0.6874 - val_accuracy: 0.7714\n",
            "Epoch 30/200\n",
            "138/138 [==============================] - 12s 89ms/step - loss: 0.8257 - accuracy: 0.7138 - val_loss: 0.6873 - val_accuracy: 0.7737\n",
            "Epoch 31/200\n",
            "138/138 [==============================] - 12s 88ms/step - loss: 0.8188 - accuracy: 0.7204 - val_loss: 0.7119 - val_accuracy: 0.7673\n",
            "Epoch 32/200\n",
            "138/138 [==============================] - 13s 92ms/step - loss: 0.8219 - accuracy: 0.7210 - val_loss: 0.6754 - val_accuracy: 0.7750\n",
            "Epoch 33/200\n",
            "138/138 [==============================] - 13s 91ms/step - loss: 0.8252 - accuracy: 0.7177 - val_loss: 0.6814 - val_accuracy: 0.7759\n",
            "Epoch 34/200\n",
            "138/138 [==============================] - 12s 89ms/step - loss: 0.8035 - accuracy: 0.7202 - val_loss: 0.6680 - val_accuracy: 0.7904\n",
            "Epoch 35/200\n",
            "138/138 [==============================] - 12s 88ms/step - loss: 0.7652 - accuracy: 0.7355 - val_loss: 0.6714 - val_accuracy: 0.7809\n",
            "Epoch 36/200\n",
            "138/138 [==============================] - 12s 88ms/step - loss: 0.7845 - accuracy: 0.7351 - val_loss: 0.6508 - val_accuracy: 0.7854\n",
            "Epoch 37/200\n",
            "138/138 [==============================] - 13s 93ms/step - loss: 0.7678 - accuracy: 0.7361 - val_loss: 0.6665 - val_accuracy: 0.7827\n",
            "Epoch 38/200\n",
            "138/138 [==============================] - 12s 87ms/step - loss: 0.7648 - accuracy: 0.7359 - val_loss: 0.6495 - val_accuracy: 0.7827\n",
            "Epoch 39/200\n",
            "138/138 [==============================] - 12s 88ms/step - loss: 0.7376 - accuracy: 0.7470 - val_loss: 0.6169 - val_accuracy: 0.7972\n",
            "Epoch 40/200\n",
            "138/138 [==============================] - 13s 91ms/step - loss: 0.7350 - accuracy: 0.7434 - val_loss: 0.6250 - val_accuracy: 0.8017\n",
            "Epoch 41/200\n",
            "138/138 [==============================] - 12s 89ms/step - loss: 0.7337 - accuracy: 0.7529 - val_loss: 0.6580 - val_accuracy: 0.7845\n",
            "Epoch 42/200\n",
            "138/138 [==============================] - 12s 89ms/step - loss: 0.7239 - accuracy: 0.7504 - val_loss: 0.6294 - val_accuracy: 0.7931\n",
            "Epoch 43/200\n",
            "138/138 [==============================] - 12s 88ms/step - loss: 0.7076 - accuracy: 0.7537 - val_loss: 0.6409 - val_accuracy: 0.7945\n",
            "Epoch 44/200\n",
            "138/138 [==============================] - 13s 91ms/step - loss: 0.7150 - accuracy: 0.7605 - val_loss: 0.6089 - val_accuracy: 0.8022\n",
            "Epoch 45/200\n",
            "138/138 [==============================] - 12s 90ms/step - loss: 0.6948 - accuracy: 0.7613 - val_loss: 0.6283 - val_accuracy: 0.7890\n",
            "Epoch 46/200\n",
            "138/138 [==============================] - 12s 89ms/step - loss: 0.6957 - accuracy: 0.7651 - val_loss: 0.6146 - val_accuracy: 0.7886\n",
            "Epoch 47/200\n",
            "138/138 [==============================] - 13s 92ms/step - loss: 0.6882 - accuracy: 0.7642 - val_loss: 0.6737 - val_accuracy: 0.7800\n",
            "Epoch 48/200\n",
            "138/138 [==============================] - 12s 89ms/step - loss: 0.6848 - accuracy: 0.7625 - val_loss: 0.5849 - val_accuracy: 0.8094\n",
            "Epoch 49/200\n",
            "138/138 [==============================] - 13s 92ms/step - loss: 0.6822 - accuracy: 0.7654 - val_loss: 0.6067 - val_accuracy: 0.7995\n",
            "Epoch 50/200\n",
            "138/138 [==============================] - 13s 95ms/step - loss: 0.6703 - accuracy: 0.7737 - val_loss: 0.6248 - val_accuracy: 0.7900\n",
            "Epoch 51/200\n",
            "138/138 [==============================] - 13s 97ms/step - loss: 0.6890 - accuracy: 0.7619 - val_loss: 0.6152 - val_accuracy: 0.7940\n",
            "Epoch 52/200\n",
            "138/138 [==============================] - 13s 96ms/step - loss: 0.6798 - accuracy: 0.7723 - val_loss: 0.5753 - val_accuracy: 0.8108\n",
            "Epoch 53/200\n",
            "138/138 [==============================] - 13s 95ms/step - loss: 0.6830 - accuracy: 0.7684 - val_loss: 0.6019 - val_accuracy: 0.8035\n",
            "Epoch 54/200\n",
            "138/138 [==============================] - 13s 94ms/step - loss: 0.6447 - accuracy: 0.7760 - val_loss: 0.6066 - val_accuracy: 0.8017\n",
            "Epoch 55/200\n",
            "138/138 [==============================] - 12s 90ms/step - loss: 0.6518 - accuracy: 0.7730 - val_loss: 0.5852 - val_accuracy: 0.8126\n",
            "Epoch 56/200\n",
            "138/138 [==============================] - 12s 90ms/step - loss: 0.6494 - accuracy: 0.7800 - val_loss: 0.5750 - val_accuracy: 0.8067\n",
            "Epoch 57/200\n",
            "138/138 [==============================] - 13s 91ms/step - loss: 0.6431 - accuracy: 0.7772 - val_loss: 0.5818 - val_accuracy: 0.8112\n",
            "Epoch 58/200\n",
            "138/138 [==============================] - 13s 93ms/step - loss: 0.6321 - accuracy: 0.7888 - val_loss: 0.5949 - val_accuracy: 0.8031\n",
            "Epoch 59/200\n",
            "138/138 [==============================] - 12s 90ms/step - loss: 0.6245 - accuracy: 0.7919 - val_loss: 0.5993 - val_accuracy: 0.8076\n",
            "Epoch 60/200\n",
            "138/138 [==============================] - 12s 90ms/step - loss: 0.6267 - accuracy: 0.7918 - val_loss: 0.5830 - val_accuracy: 0.8135\n",
            "Epoch 61/200\n",
            "138/138 [==============================] - 13s 92ms/step - loss: 0.6204 - accuracy: 0.7861 - val_loss: 0.5753 - val_accuracy: 0.8126\n",
            "Epoch 62/200\n",
            "138/138 [==============================] - 12s 90ms/step - loss: 0.6274 - accuracy: 0.7912 - val_loss: 0.6084 - val_accuracy: 0.7999\n",
            "Epoch 63/200\n",
            "138/138 [==============================] - 13s 91ms/step - loss: 0.6045 - accuracy: 0.7926 - val_loss: 0.5768 - val_accuracy: 0.8094\n",
            "Epoch 64/200\n",
            "138/138 [==============================] - 12s 89ms/step - loss: 0.6169 - accuracy: 0.7914 - val_loss: 0.5567 - val_accuracy: 0.8185\n",
            "Epoch 65/200\n",
            "138/138 [==============================] - 13s 93ms/step - loss: 0.6119 - accuracy: 0.7906 - val_loss: 0.5862 - val_accuracy: 0.8099\n",
            "Epoch 66/200\n",
            "138/138 [==============================] - 12s 90ms/step - loss: 0.6075 - accuracy: 0.7959 - val_loss: 0.5684 - val_accuracy: 0.8144\n",
            "Epoch 67/200\n",
            "138/138 [==============================] - 12s 91ms/step - loss: 0.5954 - accuracy: 0.7973 - val_loss: 0.5465 - val_accuracy: 0.8257\n",
            "Epoch 68/200\n",
            "138/138 [==============================] - 13s 92ms/step - loss: 0.5934 - accuracy: 0.7968 - val_loss: 0.5513 - val_accuracy: 0.8230\n",
            "Epoch 69/200\n",
            "138/138 [==============================] - 12s 89ms/step - loss: 0.5848 - accuracy: 0.7998 - val_loss: 0.5545 - val_accuracy: 0.8244\n",
            "Epoch 70/200\n",
            "138/138 [==============================] - 12s 89ms/step - loss: 0.5990 - accuracy: 0.8015 - val_loss: 0.5629 - val_accuracy: 0.8167\n",
            "Epoch 71/200\n",
            "138/138 [==============================] - 12s 90ms/step - loss: 0.5806 - accuracy: 0.8058 - val_loss: 0.5588 - val_accuracy: 0.8158\n",
            "Epoch 72/200\n",
            "138/138 [==============================] - 13s 92ms/step - loss: 0.5719 - accuracy: 0.8055 - val_loss: 0.5704 - val_accuracy: 0.8203\n",
            "Epoch 73/200\n",
            "138/138 [==============================] - 13s 91ms/step - loss: 0.5781 - accuracy: 0.8022 - val_loss: 0.5817 - val_accuracy: 0.8103\n",
            "Epoch 74/200\n",
            "138/138 [==============================] - 12s 88ms/step - loss: 0.5770 - accuracy: 0.8001 - val_loss: 0.5425 - val_accuracy: 0.8221\n",
            "Epoch 75/200\n",
            "138/138 [==============================] - 12s 89ms/step - loss: 0.5839 - accuracy: 0.8021 - val_loss: 0.5494 - val_accuracy: 0.8289\n",
            "Epoch 76/200\n",
            "138/138 [==============================] - 13s 91ms/step - loss: 0.6029 - accuracy: 0.8005 - val_loss: 0.5764 - val_accuracy: 0.8121\n",
            "Epoch 77/200\n",
            "138/138 [==============================] - 13s 91ms/step - loss: 0.5830 - accuracy: 0.8063 - val_loss: 0.5409 - val_accuracy: 0.8307\n",
            "Epoch 78/200\n",
            "138/138 [==============================] - 12s 90ms/step - loss: 0.5672 - accuracy: 0.8049 - val_loss: 0.5502 - val_accuracy: 0.8221\n",
            "Epoch 79/200\n",
            "138/138 [==============================] - 12s 90ms/step - loss: 0.5553 - accuracy: 0.8136 - val_loss: 0.5596 - val_accuracy: 0.8167\n",
            "Epoch 80/200\n",
            "138/138 [==============================] - 13s 97ms/step - loss: 0.5658 - accuracy: 0.8101 - val_loss: 0.5086 - val_accuracy: 0.8330\n",
            "Epoch 81/200\n",
            "138/138 [==============================] - 13s 96ms/step - loss: 0.5440 - accuracy: 0.8135 - val_loss: 0.5252 - val_accuracy: 0.8379\n",
            "Epoch 82/200\n",
            "138/138 [==============================] - 13s 95ms/step - loss: 0.5521 - accuracy: 0.8115 - val_loss: 0.5144 - val_accuracy: 0.8429\n",
            "Epoch 83/200\n",
            "138/138 [==============================] - 13s 95ms/step - loss: 0.5516 - accuracy: 0.8168 - val_loss: 0.5410 - val_accuracy: 0.8325\n",
            "Epoch 84/200\n",
            "138/138 [==============================] - 13s 93ms/step - loss: 0.5628 - accuracy: 0.8097 - val_loss: 0.5975 - val_accuracy: 0.8067\n",
            "Epoch 85/200\n",
            "138/138 [==============================] - 13s 93ms/step - loss: 0.5712 - accuracy: 0.8073 - val_loss: 0.4979 - val_accuracy: 0.8379\n",
            "Epoch 86/200\n",
            "138/138 [==============================] - 13s 92ms/step - loss: 0.5360 - accuracy: 0.8176 - val_loss: 0.5128 - val_accuracy: 0.8361\n",
            "Epoch 87/200\n",
            "138/138 [==============================] - 13s 91ms/step - loss: 0.5633 - accuracy: 0.8093 - val_loss: 0.5021 - val_accuracy: 0.8348\n",
            "Epoch 88/200\n",
            "138/138 [==============================] - 12s 91ms/step - loss: 0.5373 - accuracy: 0.8191 - val_loss: 0.5439 - val_accuracy: 0.8203\n",
            "Epoch 89/200\n",
            "138/138 [==============================] - 13s 92ms/step - loss: 0.5348 - accuracy: 0.8211 - val_loss: 0.5379 - val_accuracy: 0.8321\n",
            "Epoch 90/200\n",
            "138/138 [==============================] - 13s 91ms/step - loss: 0.5393 - accuracy: 0.8188 - val_loss: 0.5193 - val_accuracy: 0.8311\n",
            "Epoch 91/200\n",
            "138/138 [==============================] - 13s 93ms/step - loss: 0.5301 - accuracy: 0.8239 - val_loss: 0.5160 - val_accuracy: 0.8343\n",
            "Epoch 92/200\n",
            "138/138 [==============================] - 13s 92ms/step - loss: 0.5077 - accuracy: 0.8236 - val_loss: 0.5245 - val_accuracy: 0.8293\n",
            "Epoch 93/200\n",
            "138/138 [==============================] - 13s 93ms/step - loss: 0.5157 - accuracy: 0.8240 - val_loss: 0.5554 - val_accuracy: 0.8234\n",
            "Epoch 94/200\n",
            "138/138 [==============================] - 13s 92ms/step - loss: 0.5210 - accuracy: 0.8262 - val_loss: 0.4983 - val_accuracy: 0.8443\n",
            "Epoch 95/200\n",
            "138/138 [==============================] - 12s 88ms/step - loss: 0.5063 - accuracy: 0.8274 - val_loss: 0.4951 - val_accuracy: 0.8447\n",
            "Epoch 96/200\n",
            "138/138 [==============================] - 12s 89ms/step - loss: 0.5323 - accuracy: 0.8195 - val_loss: 0.5057 - val_accuracy: 0.8339\n",
            "Epoch 97/200\n",
            "138/138 [==============================] - 13s 92ms/step - loss: 0.5077 - accuracy: 0.8216 - val_loss: 0.4852 - val_accuracy: 0.8429\n",
            "Epoch 98/200\n",
            "138/138 [==============================] - 13s 94ms/step - loss: 0.5133 - accuracy: 0.8278 - val_loss: 0.5209 - val_accuracy: 0.8298\n",
            "Epoch 99/200\n",
            "138/138 [==============================] - 13s 92ms/step - loss: 0.5054 - accuracy: 0.8280 - val_loss: 0.4851 - val_accuracy: 0.8474\n",
            "Epoch 100/200\n",
            "138/138 [==============================] - 13s 92ms/step - loss: 0.5128 - accuracy: 0.8277 - val_loss: 0.5055 - val_accuracy: 0.8407\n",
            "Epoch 101/200\n",
            "138/138 [==============================] - 13s 94ms/step - loss: 0.5199 - accuracy: 0.8210 - val_loss: 0.5063 - val_accuracy: 0.8370\n",
            "Epoch 102/200\n",
            "138/138 [==============================] - 13s 95ms/step - loss: 0.5062 - accuracy: 0.8269 - val_loss: 0.4870 - val_accuracy: 0.8411\n",
            "Epoch 103/200\n",
            "138/138 [==============================] - 12s 90ms/step - loss: 0.5047 - accuracy: 0.8252 - val_loss: 0.4834 - val_accuracy: 0.8529\n",
            "Epoch 104/200\n",
            "138/138 [==============================] - 12s 90ms/step - loss: 0.4942 - accuracy: 0.8371 - val_loss: 0.4729 - val_accuracy: 0.8502\n",
            "Epoch 105/200\n",
            "138/138 [==============================] - 12s 90ms/step - loss: 0.4899 - accuracy: 0.8307 - val_loss: 0.4861 - val_accuracy: 0.8407\n",
            "Epoch 106/200\n",
            "138/138 [==============================] - 13s 91ms/step - loss: 0.5039 - accuracy: 0.8314 - val_loss: 0.4956 - val_accuracy: 0.8461\n",
            "Epoch 107/200\n",
            "138/138 [==============================] - 12s 88ms/step - loss: 0.4981 - accuracy: 0.8339 - val_loss: 0.5762 - val_accuracy: 0.8121\n",
            "Epoch 108/200\n",
            "138/138 [==============================] - 13s 91ms/step - loss: 0.5150 - accuracy: 0.8240 - val_loss: 0.5037 - val_accuracy: 0.8379\n",
            "Epoch 109/200\n",
            "138/138 [==============================] - 12s 88ms/step - loss: 0.4876 - accuracy: 0.8411 - val_loss: 0.4850 - val_accuracy: 0.8542\n",
            "Epoch 110/200\n",
            "138/138 [==============================] - 12s 90ms/step - loss: 0.4974 - accuracy: 0.8325 - val_loss: 0.4988 - val_accuracy: 0.8465\n",
            "Epoch 111/200\n",
            "138/138 [==============================] - 12s 88ms/step - loss: 0.4912 - accuracy: 0.8327 - val_loss: 0.4747 - val_accuracy: 0.8502\n",
            "Epoch 112/200\n",
            "138/138 [==============================] - 13s 91ms/step - loss: 0.4751 - accuracy: 0.8398 - val_loss: 0.5001 - val_accuracy: 0.8420\n",
            "Epoch 113/200\n",
            "138/138 [==============================] - 12s 88ms/step - loss: 0.4718 - accuracy: 0.8437 - val_loss: 0.4840 - val_accuracy: 0.8411\n",
            "Epoch 114/200\n",
            "138/138 [==============================] - 12s 88ms/step - loss: 0.4825 - accuracy: 0.8375 - val_loss: 0.4786 - val_accuracy: 0.8565\n",
            "Epoch 115/200\n",
            "138/138 [==============================] - 12s 90ms/step - loss: 0.4721 - accuracy: 0.8388 - val_loss: 0.4879 - val_accuracy: 0.8493\n",
            "Epoch 116/200\n",
            "138/138 [==============================] - 12s 88ms/step - loss: 0.4964 - accuracy: 0.8297 - val_loss: 0.4817 - val_accuracy: 0.8479\n",
            "Epoch 117/200\n",
            "138/138 [==============================] - 12s 89ms/step - loss: 0.4749 - accuracy: 0.8367 - val_loss: 0.5045 - val_accuracy: 0.8470\n",
            "Epoch 118/200\n",
            "138/138 [==============================] - 12s 90ms/step - loss: 0.4705 - accuracy: 0.8412 - val_loss: 0.4885 - val_accuracy: 0.8461\n",
            "Epoch 119/200\n",
            "138/138 [==============================] - 13s 92ms/step - loss: 0.4782 - accuracy: 0.8396 - val_loss: 0.4830 - val_accuracy: 0.8524\n",
            "Epoch 120/200\n",
            "138/138 [==============================] - 13s 94ms/step - loss: 0.4765 - accuracy: 0.8405 - val_loss: 0.4689 - val_accuracy: 0.8601\n",
            "Epoch 121/200\n",
            "138/138 [==============================] - 12s 90ms/step - loss: 0.4548 - accuracy: 0.8470 - val_loss: 0.5005 - val_accuracy: 0.8488\n",
            "Epoch 122/200\n",
            "138/138 [==============================] - 13s 91ms/step - loss: 0.4788 - accuracy: 0.8381 - val_loss: 0.4701 - val_accuracy: 0.8524\n",
            "Epoch 123/200\n",
            "138/138 [==============================] - 12s 90ms/step - loss: 0.4662 - accuracy: 0.8431 - val_loss: 0.4630 - val_accuracy: 0.8583\n",
            "Epoch 124/200\n",
            "138/138 [==============================] - 13s 92ms/step - loss: 0.4518 - accuracy: 0.8469 - val_loss: 0.4871 - val_accuracy: 0.8411\n",
            "Epoch 125/200\n",
            "138/138 [==============================] - 12s 89ms/step - loss: 0.4616 - accuracy: 0.8448 - val_loss: 0.4532 - val_accuracy: 0.8619\n",
            "Epoch 126/200\n",
            "138/138 [==============================] - 13s 93ms/step - loss: 0.4691 - accuracy: 0.8445 - val_loss: 0.4900 - val_accuracy: 0.8533\n",
            "Epoch 127/200\n",
            "138/138 [==============================] - 12s 90ms/step - loss: 0.4572 - accuracy: 0.8432 - val_loss: 0.4663 - val_accuracy: 0.8511\n",
            "Epoch 128/200\n",
            "138/138 [==============================] - 12s 89ms/step - loss: 0.4577 - accuracy: 0.8463 - val_loss: 0.4583 - val_accuracy: 0.8569\n",
            "Epoch 129/200\n",
            "138/138 [==============================] - 13s 91ms/step - loss: 0.4543 - accuracy: 0.8471 - val_loss: 0.4705 - val_accuracy: 0.8493\n",
            "Epoch 130/200\n",
            "138/138 [==============================] - 13s 91ms/step - loss: 0.4394 - accuracy: 0.8528 - val_loss: 0.4784 - val_accuracy: 0.8542\n",
            "Epoch 131/200\n",
            "138/138 [==============================] - 12s 89ms/step - loss: 0.4640 - accuracy: 0.8451 - val_loss: 0.4763 - val_accuracy: 0.8556\n",
            "Epoch 132/200\n",
            "138/138 [==============================] - 12s 88ms/step - loss: 0.4567 - accuracy: 0.8445 - val_loss: 0.4477 - val_accuracy: 0.8597\n",
            "Epoch 133/200\n",
            "138/138 [==============================] - 13s 91ms/step - loss: 0.4397 - accuracy: 0.8526 - val_loss: 0.4462 - val_accuracy: 0.8597\n",
            "Epoch 134/200\n",
            "138/138 [==============================] - 13s 91ms/step - loss: 0.4436 - accuracy: 0.8511 - val_loss: 0.4958 - val_accuracy: 0.8474\n",
            "Epoch 135/200\n",
            "138/138 [==============================] - 12s 88ms/step - loss: 0.4503 - accuracy: 0.8493 - val_loss: 0.5023 - val_accuracy: 0.8483\n",
            "Epoch 136/200\n",
            "138/138 [==============================] - 12s 89ms/step - loss: 0.4383 - accuracy: 0.8478 - val_loss: 0.4427 - val_accuracy: 0.8642\n",
            "Epoch 137/200\n",
            "138/138 [==============================] - 12s 90ms/step - loss: 0.4435 - accuracy: 0.8525 - val_loss: 0.4557 - val_accuracy: 0.8597\n",
            "Epoch 138/200\n",
            "138/138 [==============================] - 13s 93ms/step - loss: 0.4337 - accuracy: 0.8502 - val_loss: 0.4658 - val_accuracy: 0.8610\n",
            "Epoch 139/200\n",
            "138/138 [==============================] - 12s 90ms/step - loss: 0.4407 - accuracy: 0.8547 - val_loss: 0.4852 - val_accuracy: 0.8488\n",
            "Epoch 140/200\n",
            "138/138 [==============================] - 12s 90ms/step - loss: 0.4399 - accuracy: 0.8541 - val_loss: 0.4486 - val_accuracy: 0.8628\n",
            "Epoch 141/200\n",
            "138/138 [==============================] - 12s 89ms/step - loss: 0.4385 - accuracy: 0.8489 - val_loss: 0.4800 - val_accuracy: 0.8574\n",
            "Epoch 142/200\n",
            "138/138 [==============================] - 12s 88ms/step - loss: 0.4400 - accuracy: 0.8490 - val_loss: 0.4878 - val_accuracy: 0.8483\n",
            "Epoch 143/200\n",
            "138/138 [==============================] - 12s 88ms/step - loss: 0.4477 - accuracy: 0.8509 - val_loss: 0.4789 - val_accuracy: 0.8565\n",
            "Epoch 144/200\n",
            "138/138 [==============================] - 12s 88ms/step - loss: 0.4355 - accuracy: 0.8536 - val_loss: 0.4638 - val_accuracy: 0.8569\n",
            "Epoch 145/200\n",
            "138/138 [==============================] - 12s 86ms/step - loss: 0.4356 - accuracy: 0.8527 - val_loss: 0.4742 - val_accuracy: 0.8560\n",
            "Epoch 146/200\n",
            "138/138 [==============================] - 13s 92ms/step - loss: 0.4366 - accuracy: 0.8541 - val_loss: 0.4933 - val_accuracy: 0.8493\n",
            "Epoch 147/200\n",
            "138/138 [==============================] - 12s 89ms/step - loss: 0.4398 - accuracy: 0.8544 - val_loss: 0.4511 - val_accuracy: 0.8683\n",
            "Epoch 148/200\n",
            "138/138 [==============================] - 13s 92ms/step - loss: 0.4369 - accuracy: 0.8509 - val_loss: 0.4472 - val_accuracy: 0.8637\n",
            "Epoch 149/200\n",
            "138/138 [==============================] - 12s 88ms/step - loss: 0.4342 - accuracy: 0.8537 - val_loss: 0.4489 - val_accuracy: 0.8705\n",
            "Epoch 150/200\n",
            "138/138 [==============================] - 12s 88ms/step - loss: 0.4361 - accuracy: 0.8567 - val_loss: 0.4409 - val_accuracy: 0.8624\n",
            "Epoch 151/200\n",
            "138/138 [==============================] - 12s 86ms/step - loss: 0.4192 - accuracy: 0.8615 - val_loss: 0.4452 - val_accuracy: 0.8678\n",
            "Epoch 152/200\n",
            "138/138 [==============================] - 13s 91ms/step - loss: 0.4201 - accuracy: 0.8586 - val_loss: 0.4625 - val_accuracy: 0.8560\n",
            "Epoch 153/200\n",
            "138/138 [==============================] - 12s 87ms/step - loss: 0.4320 - accuracy: 0.8560 - val_loss: 0.4385 - val_accuracy: 0.8660\n",
            "Epoch 154/200\n",
            "138/138 [==============================] - 12s 88ms/step - loss: 0.4177 - accuracy: 0.8601 - val_loss: 0.4531 - val_accuracy: 0.8683\n",
            "Epoch 155/200\n",
            "138/138 [==============================] - 12s 90ms/step - loss: 0.4207 - accuracy: 0.8594 - val_loss: 0.5535 - val_accuracy: 0.8330\n",
            "Epoch 156/200\n",
            "138/138 [==============================] - 13s 91ms/step - loss: 0.4359 - accuracy: 0.8509 - val_loss: 0.5000 - val_accuracy: 0.8547\n",
            "Epoch 157/200\n",
            "138/138 [==============================] - 13s 92ms/step - loss: 0.4218 - accuracy: 0.8606 - val_loss: 0.4739 - val_accuracy: 0.8569\n",
            "Epoch 158/200\n",
            "138/138 [==============================] - 12s 90ms/step - loss: 0.4317 - accuracy: 0.8585 - val_loss: 0.4427 - val_accuracy: 0.8705\n",
            "Epoch 159/200\n",
            "138/138 [==============================] - 13s 93ms/step - loss: 0.4200 - accuracy: 0.8554 - val_loss: 0.4433 - val_accuracy: 0.8651\n",
            "Epoch 160/200\n",
            "138/138 [==============================] - 12s 90ms/step - loss: 0.4285 - accuracy: 0.8554 - val_loss: 0.4746 - val_accuracy: 0.8588\n",
            "Epoch 161/200\n",
            "138/138 [==============================] - 12s 90ms/step - loss: 0.4181 - accuracy: 0.8603 - val_loss: 0.4606 - val_accuracy: 0.8646\n",
            "Epoch 162/200\n",
            "138/138 [==============================] - 13s 93ms/step - loss: 0.4048 - accuracy: 0.8608 - val_loss: 0.4616 - val_accuracy: 0.8597\n",
            "Epoch 163/200\n",
            "138/138 [==============================] - 13s 92ms/step - loss: 0.4192 - accuracy: 0.8595 - val_loss: 0.4704 - val_accuracy: 0.8551\n",
            "Epoch 164/200\n",
            "138/138 [==============================] - 12s 90ms/step - loss: 0.4149 - accuracy: 0.8625 - val_loss: 0.4488 - val_accuracy: 0.8656\n",
            "Epoch 165/200\n",
            "138/138 [==============================] - 13s 91ms/step - loss: 0.4300 - accuracy: 0.8532 - val_loss: 0.4612 - val_accuracy: 0.8624\n",
            "Epoch 166/200\n",
            "138/138 [==============================] - 13s 92ms/step - loss: 0.4075 - accuracy: 0.8608 - val_loss: 0.4759 - val_accuracy: 0.8533\n",
            "Epoch 167/200\n",
            "138/138 [==============================] - 13s 91ms/step - loss: 0.4146 - accuracy: 0.8591 - val_loss: 0.4858 - val_accuracy: 0.8579\n",
            "Epoch 168/200\n",
            "138/138 [==============================] - 13s 93ms/step - loss: 0.4216 - accuracy: 0.8603 - val_loss: 0.4528 - val_accuracy: 0.8633\n",
            "Epoch 169/200\n",
            "138/138 [==============================] - 13s 93ms/step - loss: 0.3943 - accuracy: 0.8622 - val_loss: 0.4382 - val_accuracy: 0.8660\n",
            "Epoch 170/200\n",
            "138/138 [==============================] - 13s 92ms/step - loss: 0.4071 - accuracy: 0.8585 - val_loss: 0.4452 - val_accuracy: 0.8710\n",
            "Epoch 171/200\n",
            "138/138 [==============================] - 13s 93ms/step - loss: 0.4163 - accuracy: 0.8571 - val_loss: 0.4719 - val_accuracy: 0.8651\n",
            "Epoch 172/200\n",
            "138/138 [==============================] - 13s 96ms/step - loss: 0.3873 - accuracy: 0.8685 - val_loss: 0.4450 - val_accuracy: 0.8660\n",
            "Epoch 173/200\n",
            "138/138 [==============================] - 13s 92ms/step - loss: 0.3973 - accuracy: 0.8631 - val_loss: 0.4410 - val_accuracy: 0.8678\n",
            "Epoch 174/200\n",
            "138/138 [==============================] - 13s 94ms/step - loss: 0.4022 - accuracy: 0.8656 - val_loss: 0.4497 - val_accuracy: 0.8674\n",
            "Epoch 175/200\n",
            "138/138 [==============================] - 13s 93ms/step - loss: 0.3982 - accuracy: 0.8638 - val_loss: 0.4724 - val_accuracy: 0.8683\n",
            "Epoch 176/200\n",
            "138/138 [==============================] - 13s 93ms/step - loss: 0.4091 - accuracy: 0.8625 - val_loss: 0.4561 - val_accuracy: 0.8646\n",
            "Epoch 177/200\n",
            "138/138 [==============================] - 13s 93ms/step - loss: 0.3880 - accuracy: 0.8684 - val_loss: 0.4647 - val_accuracy: 0.8656\n",
            "Epoch 178/200\n",
            "138/138 [==============================] - 12s 90ms/step - loss: 0.3935 - accuracy: 0.8689 - val_loss: 0.4355 - val_accuracy: 0.8678\n",
            "Epoch 179/200\n",
            "138/138 [==============================] - 12s 89ms/step - loss: 0.3945 - accuracy: 0.8677 - val_loss: 0.4412 - val_accuracy: 0.8633\n",
            "Epoch 180/200\n",
            "138/138 [==============================] - 12s 88ms/step - loss: 0.3933 - accuracy: 0.8667 - val_loss: 0.4387 - val_accuracy: 0.8751\n",
            "Epoch 181/200\n",
            "138/138 [==============================] - 13s 92ms/step - loss: 0.3982 - accuracy: 0.8644 - val_loss: 0.4307 - val_accuracy: 0.8769\n",
            "Epoch 182/200\n",
            "138/138 [==============================] - 12s 90ms/step - loss: 0.4120 - accuracy: 0.8627 - val_loss: 0.4581 - val_accuracy: 0.8533\n",
            "Epoch 183/200\n",
            "138/138 [==============================] - 12s 89ms/step - loss: 0.4033 - accuracy: 0.8623 - val_loss: 0.4590 - val_accuracy: 0.8628\n",
            "Epoch 184/200\n",
            "138/138 [==============================] - 13s 91ms/step - loss: 0.3865 - accuracy: 0.8725 - val_loss: 0.4438 - val_accuracy: 0.8669\n",
            "Epoch 185/200\n",
            "138/138 [==============================] - 13s 92ms/step - loss: 0.3889 - accuracy: 0.8679 - val_loss: 0.4530 - val_accuracy: 0.8660\n",
            "Epoch 186/200\n",
            "138/138 [==============================] - 13s 93ms/step - loss: 0.3840 - accuracy: 0.8701 - val_loss: 0.4709 - val_accuracy: 0.8592\n",
            "Epoch 187/200\n",
            "138/138 [==============================] - 13s 91ms/step - loss: 0.3855 - accuracy: 0.8698 - val_loss: 0.4665 - val_accuracy: 0.8597\n",
            "Epoch 188/200\n",
            "138/138 [==============================] - 13s 91ms/step - loss: 0.3773 - accuracy: 0.8737 - val_loss: 0.4608 - val_accuracy: 0.8651\n",
            "Epoch 189/200\n",
            "138/138 [==============================] - 12s 89ms/step - loss: 0.4205 - accuracy: 0.8575 - val_loss: 0.4363 - val_accuracy: 0.8674\n",
            "Epoch 190/200\n",
            "138/138 [==============================] - 13s 93ms/step - loss: 0.3898 - accuracy: 0.8711 - val_loss: 0.4392 - val_accuracy: 0.8714\n",
            "Epoch 191/200\n",
            "138/138 [==============================] - 12s 89ms/step - loss: 0.3919 - accuracy: 0.8672 - val_loss: 0.4319 - val_accuracy: 0.8701\n",
            "Epoch 192/200\n",
            "138/138 [==============================] - 12s 90ms/step - loss: 0.4100 - accuracy: 0.8632 - val_loss: 0.4386 - val_accuracy: 0.8683\n",
            "Epoch 193/200\n",
            "138/138 [==============================] - 13s 92ms/step - loss: 0.3771 - accuracy: 0.8744 - val_loss: 0.4274 - val_accuracy: 0.8746\n",
            "Epoch 194/200\n",
            "138/138 [==============================] - 13s 92ms/step - loss: 0.3749 - accuracy: 0.8723 - val_loss: 0.4305 - val_accuracy: 0.8732\n",
            "Epoch 195/200\n",
            "138/138 [==============================] - 12s 88ms/step - loss: 0.3751 - accuracy: 0.8720 - val_loss: 0.4758 - val_accuracy: 0.8601\n",
            "Epoch 196/200\n",
            "138/138 [==============================] - 12s 90ms/step - loss: 0.3856 - accuracy: 0.8726 - val_loss: 0.4393 - val_accuracy: 0.8705\n",
            "Epoch 197/200\n",
            "138/138 [==============================] - 12s 89ms/step - loss: 0.3906 - accuracy: 0.8707 - val_loss: 0.4463 - val_accuracy: 0.8646\n",
            "Epoch 198/200\n",
            "138/138 [==============================] - 13s 93ms/step - loss: 0.3747 - accuracy: 0.8742 - val_loss: 0.4232 - val_accuracy: 0.8773\n",
            "Epoch 199/200\n",
            "138/138 [==============================] - 12s 89ms/step - loss: 0.3637 - accuracy: 0.8760 - val_loss: 0.4446 - val_accuracy: 0.8651\n",
            "Epoch 200/200\n",
            "138/138 [==============================] - 12s 90ms/step - loss: 0.3889 - accuracy: 0.8712 - val_loss: 0.4523 - val_accuracy: 0.8687\n"
          ],
          "name": "stdout"
        }
      ]
    },
    {
      "cell_type": "markdown",
      "metadata": {
        "id": "5D2ZD2HozeAr"
      },
      "source": [
        "Show the learning curves:"
      ]
    },
    {
      "cell_type": "code",
      "metadata": {
        "colab": {
          "base_uri": "https://localhost:8080/",
          "height": 545
        },
        "id": "-eKBGUK0zYhG",
        "outputId": "16dee763-d4ae-4ab8-9e35-413b2c1738dc"
      },
      "source": [
        "acc = history.history['accuracy']\n",
        "val_acc = history.history['val_accuracy']\n",
        "loss = history.history['loss']\n",
        "val_loss = history.history['val_loss']\n",
        "\n",
        "epochs = range(len(acc))\n",
        "\n",
        "plt.plot(epochs, acc, 'bo', label='Training acc')\n",
        "plt.plot(epochs, val_acc, 'b', label='Validation acc')\n",
        "plt.title('Training and validation accuracy')\n",
        "plt.legend()\n",
        "\n",
        "plt.figure()\n",
        "\n",
        "plt.plot(epochs, loss, 'bo', label='Training loss')\n",
        "plt.plot(epochs, val_loss, 'b', label='Validation loss')\n",
        "plt.title('Training and validation loss')\n",
        "plt.legend()\n",
        "\n",
        "plt.show()"
      ],
      "execution_count": 17,
      "outputs": [
        {
          "output_type": "display_data",
          "data": {
            "image/png": "[encoded data removed]",
            "text/plain": [
              "<Figure size 432x288 with 1 Axes>"
            ]
          },
          "metadata": {
            "tags": [],
            "needs_background": "light"
          }
        },
        {
          "output_type": "display_data",
          "data": {
            "image/png": "[encoded data removed]",
            "text/plain": [
              "<Figure size 432x288 with 1 Axes>"
            ]
          },
          "metadata": {
            "tags": [],
            "needs_background": "light"
          }
        }
      ]
    },
    {
      "cell_type": "markdown",
      "metadata": {
        "id": "Ezx-CADc6inU"
      },
      "source": [
        "# Evaluation"
      ]
    },
    {
      "cell_type": "code",
      "metadata": {
        "colab": {
          "base_uri": "https://localhost:8080/"
        },
        "id": "DP6vInZM6l7J",
        "outputId": "0619cb52-6a28-4436-95b9-b2ec2616e9a9"
      },
      "source": [
        "_, accuracy = model.evaluate(x_test, y_test, verbose=0)\n",
        "print('Test Accuracy: %.2f' % (accuracy*100))"
      ],
      "execution_count": 18,
      "outputs": [
        {
          "output_type": "stream",
          "text": [
            "Test Accuracy: 86.38\n"
          ],
          "name": "stdout"
        }
      ]
    }
  ]
}